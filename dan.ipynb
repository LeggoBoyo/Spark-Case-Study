{
 "cells": [
  {
   "cell_type": "code",
   "execution_count": 1,
   "id": "75e2b252-d627-46a8-9425-769785460513",
   "metadata": {},
   "outputs": [],
   "source": [
    "import helper_daniel as Helper"
   ]
  },
  {
   "cell_type": "code",
   "execution_count": null,
   "id": "5c09cf29-6f55-43e4-8c0f-a46c6462a144",
   "metadata": {},
   "outputs": [],
   "source": []
  },
  {
   "cell_type": "code",
   "execution_count": 9,
   "id": "30bb7860-4572-46ca-a5c6-cea36449f4b2",
   "metadata": {},
   "outputs": [],
   "source": [
    "import pyspark as ps\n",
    "import json\n",
    "import pandas as pd\n",
    "\n",
    "spark = ps.sql.SparkSession.builder.master(\"local[4]\").appName('df case study').getOrCreate()\n",
    "\n",
    "sc = ps.SparkContext\n",
    "\n",
    "tweets_df = spark.read.json('./data/french_tweets.json').sample(False, 0.02)"
   ]
  },
  {
   "cell_type": "code",
   "execution_count": 10,
   "id": "dda4d6a4-e712-420a-b6a4-526b85d3cbc0",
   "metadata": {},
   "outputs": [],
   "source": [
    "def CleanUp(rdd, columns):\n",
    "    return (rdd[columns].withColumn('user_id', rdd['user.id'])\n",
    "            .withColumn('user_screen_name', rdd['user.screen_name'])\n",
    "            .withColumn('user_name', rdd['user.name'])\n",
    "            .withColumn('place_type', rdd['place.place_type'])\n",
    "            .withColumn('place_coordinates', rdd['place.bounding_box.coordinates'])\n",
    "            .withColumn('hashtags', rdd['entities.hashtags.text'])\n",
    "            .withColumn('mentions_id', rdd['entities.user_mentions.id'])\n",
    "            .drop('user')\n",
    "            .drop('place')\n",
    "            .drop('entities')\n",
    "           )\n",
    "\n",
    "\n",
    "cleaned = CleanUp(tweets_df, ['entities', 'filter_level', 'id', 'in_reply_to_user_id', 'lang', 'place', 'possibly_sensitive', 'text', 'timestamp_ms', 'user'])\n"
   ]
  },
  {
   "cell_type": "code",
   "execution_count": 11,
   "id": "a485bcc5-9f56-41e7-9501-34e439a79031",
   "metadata": {},
   "outputs": [],
   "source": [
    "\n",
    "cleaned = CleanUp(tweets_df, ['entities', 'filter_level', 'id', 'in_reply_to_user_id', 'lang', 'place', 'possibly_sensitive', 'text', 'timestamp_ms', 'user'])\n",
    "\n"
   ]
  },
  {
   "cell_type": "code",
   "execution_count": 12,
   "id": "942599f2-0e20-49c2-8f84-577b4d1b64c0",
   "metadata": {},
   "outputs": [],
   "source": [
    "cleaned.createOrReplaceTempView(\"dataset\")"
   ]
  },
  {
   "cell_type": "code",
   "execution_count": 13,
   "id": "235bb7e2-fd3f-4894-a5f1-6ccfbc23992c",
   "metadata": {},
   "outputs": [
    {
     "name": "stdout",
     "output_type": "stream",
     "text": [
      "+------------+------------------+-------------------+----+------------------+-------------------------------------------------------------------------------------------------------------------------------------------+-------------+---------+----------------+---------+----------+--------------------------------------------------------------------------------------------+--------+-----------------------------------------------------+\n",
      "|filter_level|id                |in_reply_to_user_id|lang|possibly_sensitive|text                                                                                                                                       |timestamp_ms |user_id  |user_screen_name|user_name|place_type|place_coordinates                                                                           |hashtags|mentions_id                                          |\n",
      "+------------+------------------+-------------------+----+------------------+-------------------------------------------------------------------------------------------------------------------------------------------+-------------+---------+----------------+---------+----------+--------------------------------------------------------------------------------------------+--------+-----------------------------------------------------+\n",
      "|low         |857225555036557314|2556703662         |fr  |null              |@Raphael31BA @ToulouseFC @LesVioletsCom @CoachDupraz te cache pas derrière le budget le problème sont les choix de… https://t.co/3LDMTlGlOM|1493213473458|121718854|frontonnais     |Thierry  |city      |[[[1.29508, 43.815886], [1.29508, 43.889598], [1.448992, 43.889598], [1.448992, 43.815886]]]|[]      |[2556703662, 47902100, 564082037, 718029376034643968]|\n",
      "+------------+------------------+-------------------+----+------------------+-------------------------------------------------------------------------------------------------------------------------------------------+-------------+---------+----------------+---------+----------+--------------------------------------------------------------------------------------------+--------+-----------------------------------------------------+\n",
      "only showing top 1 row\n",
      "\n"
     ]
    }
   ],
   "source": [
    "cleaned.show(1, truncate=False)    "
   ]
  },
  {
   "cell_type": "code",
   "execution_count": 14,
   "id": "68160944-45b2-44ac-96f2-176ecdaa833e",
   "metadata": {},
   "outputs": [
    {
     "name": "stdout",
     "output_type": "stream",
     "text": [
      "root\n",
      " |-- filter_level: string (nullable = true)\n",
      " |-- id: long (nullable = true)\n",
      " |-- in_reply_to_user_id: long (nullable = true)\n",
      " |-- lang: string (nullable = true)\n",
      " |-- possibly_sensitive: boolean (nullable = true)\n",
      " |-- text: string (nullable = true)\n",
      " |-- timestamp_ms: string (nullable = true)\n",
      " |-- user_id: long (nullable = true)\n",
      " |-- user_screen_name: string (nullable = true)\n",
      " |-- user_name: string (nullable = true)\n",
      " |-- place_type: string (nullable = true)\n",
      " |-- place_coordinates: array (nullable = true)\n",
      " |    |-- element: array (containsNull = true)\n",
      " |    |    |-- element: array (containsNull = true)\n",
      " |    |    |    |-- element: double (containsNull = true)\n",
      " |-- hashtags: array (nullable = true)\n",
      " |    |-- element: string (containsNull = true)\n",
      " |-- mentions_id: array (nullable = true)\n",
      " |    |-- element: long (containsNull = true)\n",
      "\n"
     ]
    }
   ],
   "source": [
    "cleaned.printSchema()"
   ]
  },
  {
   "cell_type": "code",
   "execution_count": 16,
   "id": "3e869b5f-4730-4b0b-a2d8-fb554cbd815c",
   "metadata": {},
   "outputs": [],
   "source": [
    "import pyspark.sql.functions as F\n",
    "from pyspark.sql.functions import udf\n",
    "from pyspark.sql.types import IntegerType"
   ]
  },
  {
   "cell_type": "code",
   "execution_count": 19,
   "id": "7ac4618b-bba2-45be-a968-84b81a693b61",
   "metadata": {},
   "outputs": [],
   "source": [
    "le_pen_id = 217749896\n",
    "macron_id = 1976143068\n",
    "\n",
    "le_pen_support = -1\n",
    "macron_support = 1\n",
    "\n",
    "def GetSupport(col):\n",
    "    if le_pen_id in col and macron_id in col:\n",
    "        return 0\n",
    "    elif le_pen_id in col:\n",
    "        return le_pen_support\n",
    "    elif macron_id in col:\n",
    "        return macron_support\n",
    "    else:\n",
    "        return 0\n",
    "    pass\n",
    "\n",
    "udf_func = udf(GetSupport, IntegerType())\n",
    "cleaned = cleaned.withColumn('supports', udf_func(F.col('mentions_id')))\n",
    "no_tags = cleaned.withColumn('amount_hashtags', F.size(F.col('hashtags'))).filter(F.col('amount_hashtags') > 0)"
   ]
  },
  {
   "cell_type": "code",
   "execution_count": null,
   "id": "20d36c93-2614-4639-8ddc-4b1ccfb886d3",
   "metadata": {},
   "outputs": [],
   "source": []
  },
  {
   "cell_type": "code",
   "execution_count": 20,
   "id": "996e5944-d843-4bb3-aab6-e8a18acc83f2",
   "metadata": {},
   "outputs": [
    {
     "name": "stdout",
     "output_type": "stream",
     "text": [
      "+--------------------+\n",
      "|            hashtags|\n",
      "+--------------------+\n",
      "|   [EcoleTwittosEMH]|\n",
      "|            [Macron]|\n",
      "|[LePen, Doyens, F...|\n",
      "|  [LePen, Photoshop]|\n",
      "|            [macron]|\n",
      "|    [winitwednesday]|\n",
      "|    [jecoutenrjlyon]|\n",
      "|    [jecoutenrjlyon]|\n",
      "|         [whirlpool]|\n",
      "|        [Luxembourg]|\n",
      "+--------------------+\n",
      "only showing top 10 rows\n",
      "\n"
     ]
    }
   ],
   "source": [
    "no_tags.select('hashtags').show(10)"
   ]
  },
  {
   "cell_type": "code",
   "execution_count": null,
   "id": "29db91be-b4cc-436c-ab3f-157425c84f3f",
   "metadata": {},
   "outputs": [],
   "source": []
  }
 ],
 "metadata": {
  "kernelspec": {
   "display_name": "Python 3",
   "language": "python",
   "name": "python3"
  },
  "language_info": {
   "codemirror_mode": {
    "name": "ipython",
    "version": 3
   },
   "file_extension": ".py",
   "mimetype": "text/x-python",
   "name": "python",
   "nbconvert_exporter": "python",
   "pygments_lexer": "ipython3",
   "version": "3.9.4"
  }
 },
 "nbformat": 4,
 "nbformat_minor": 5
}
